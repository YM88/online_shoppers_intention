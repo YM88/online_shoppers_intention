{
 "cells": [
  {
   "cell_type": "markdown",
   "metadata": {},
   "source": [
    "# Data Information: **[Online Shoppers Purchasing Intention Data Set](https://archive.ics.uci.edu/ml/datasets/Online+Shoppers+Purchasing+Intention+Dataset)**\n",
    "\n",
    "## Source  \n",
    "1. C. Okan Sakar  \n",
    "Department of Computer Engineering  \n",
    "Faculty of Engineering and Natural Sciences, Bahcesehir University  \n",
    "34349 Besiktas, Istanbul, Turkey  \n",
    "\n",
    "2. Yomi Kastro  \n",
    "Inveon Information Technologies Consultancy and Trade  \n",
    "34335 Istanbul, Turkey  \n",
    "\n",
    "The dataset consists of feature vectors belonging to 12,330 sessions. The dataset was formed so that each session\n",
    "would belong to a different user in a 1-year period to avoid any tendency to a specific campaign, special day, user\n",
    "profile, or period.\n",
    "\n",
    "\n",
    "\n",
    "The dataset consists of 10 numerical and 8 categorical attributes.\n",
    "The 'Revenue' attribute can be used as the class label.\n",
    "\n",
    "## Numericals\n",
    "\n",
    "\"Administrative\", \"Administrative Duration\", \"Informational\", \"Informational Duration\", \"Product Related\" and \"Product Related Duration\" represent the number of different types of pages visited by the visitor in that session and total time spent in each of these page categories. The values of these features are derived from the URL information of the pages visited by the user and updated in real time when a user takes an action, e.g. moving from one page to another. \n",
    "\n",
    "### The **\"Bounce Rate\"**, **\"Exit Rate\"** and **\"Page Value\"** features represent the metrics measured by \"Google Analytics\" for each page in the e-commerce site.\n",
    "\n",
    "The value of **\"Bounce Rate\"** feature for a web page refers to the percentage of visitors who enter the site from that page and then leave (\"bounce\") without triggering any other requests to the analytics server during that session.  \n",
    "The value of **\"Exit Rate\"** feature for a specific web page is calculated as for all pageviews to the page, the percentage that were the last in the session.  \n",
    "The **\"Page Value\"** feature represents the average value for a web page that a user visited before completing an e-commerce transaction.  \n",
    "\n",
    "The **\"Special Day\"** feature indicates the closeness of the site visiting time to a specific special day (e.g. Mother’s Day, Valentine's Day) in which the sessions are more likely to be finalized with transaction. The value of this attribute is determined by considering the dynamics of e-commerce such as the duration between the order date and delivery date. For example, for Valentine’s day, this value takes a nonzero value between February 2 and February 12, zero before and after this date unless it is close to another special day, and its maximum value of 1 on February 8. \n",
    "\n",
    "## Categorical\n",
    "The dataset also includes **\"operatingsystems\"**, **\"browser\"**, **\"region\"**, **\"traffictype\"**, **\"visitortype\"** as returning or new visitor, a Boolean value indicating whether the date of the visit is **\"weekend\"**, and **\"month\"** of the year.\n",
    "\n",
    "\n",
    "\n"
   ]
  },
  {
   "cell_type": "markdown",
   "metadata": {},
   "source": [
    "# Data Download and Extraction to **'data'** folder"
   ]
  },
  {
   "cell_type": "code",
   "execution_count": 36,
   "metadata": {},
   "outputs": [
    {
     "data": {
      "text/plain": [
       "['online_shoppers_intention.csv']"
      ]
     },
     "execution_count": 36,
     "metadata": {},
     "output_type": "execute_result"
    }
   ],
   "source": [
    "# !wget https://archive.ics.uci.edu/ml/machine-learning-databases/00468/online_shoppers_intention.csv\n",
    "# !mkdir data\n",
    "# !mv online_shoppers_intention.csv data/online_shoppers_intention.csv\n",
    "os.listdir('data')"
   ]
  },
  {
   "cell_type": "markdown",
   "metadata": {},
   "source": [
    "## Libraries etc"
   ]
  },
  {
   "cell_type": "code",
   "execution_count": 10,
   "metadata": {},
   "outputs": [],
   "source": [
    "# import pandas as np #just joking\n",
    "import pandas as pd\n",
    "import numpy as np\n",
    "import matplotlib.pyplot as plt\n",
    "import os"
   ]
  },
  {
   "cell_type": "code",
   "execution_count": 49,
   "metadata": {},
   "outputs": [],
   "source": [
    "df = pd.read_csv(os.path.join('data', 'online_shoppers_intention.csv'))"
   ]
  },
  {
   "cell_type": "code",
   "execution_count": 50,
   "metadata": {},
   "outputs": [
    {
     "name": "stdout",
     "output_type": "stream",
     "text": [
      "# of records: 12330\n"
     ]
    }
   ],
   "source": [
    "print('# of records:', len(df))"
   ]
  },
  {
   "cell_type": "markdown",
   "metadata": {},
   "source": [
    "## Cleaning 🧹"
   ]
  },
  {
   "cell_type": "code",
   "execution_count": 52,
   "metadata": {},
   "outputs": [
    {
     "name": "stdout",
     "output_type": "stream",
     "text": [
      "There are 125 duplicated values \n",
      " ==================================================\n",
      "       Administrative  Administrative_Duration  Informational  \\\n",
      "158                 0                      0.0              0   \n",
      "159                 0                      0.0              0   \n",
      "178                 0                      0.0              0   \n",
      "418                 0                      0.0              0   \n",
      "456                 0                      0.0              0   \n",
      "...               ...                      ...            ...   \n",
      "11934               0                      0.0              0   \n",
      "11938               0                      0.0              0   \n",
      "12159               0                      0.0              0   \n",
      "12180               0                      0.0              0   \n",
      "12185               0                      0.0              0   \n",
      "\n",
      "       Informational_Duration  ProductRelated  ProductRelated_Duration  \\\n",
      "158                       0.0               1                      0.0   \n",
      "159                       0.0               1                      0.0   \n",
      "178                       0.0               1                      0.0   \n",
      "418                       0.0               1                      0.0   \n",
      "456                       0.0               1                      0.0   \n",
      "...                       ...             ...                      ...   \n",
      "11934                     0.0               1                      0.0   \n",
      "11938                     0.0               1                      0.0   \n",
      "12159                     0.0               1                      0.0   \n",
      "12180                     0.0               1                      0.0   \n",
      "12185                     0.0               1                      0.0   \n",
      "\n",
      "       BounceRates  ExitRates  PageValues  SpecialDay Month  OperatingSystems  \\\n",
      "158            0.2        0.2         0.0         0.0   Feb                 1   \n",
      "159            0.2        0.2         0.0         0.0   Feb                 3   \n",
      "178            0.2        0.2         0.0         0.0   Feb                 3   \n",
      "418            0.2        0.2         0.0         0.0   Mar                 1   \n",
      "456            0.2        0.2         0.0         0.0   Mar                 2   \n",
      "...            ...        ...         ...         ...   ...               ...   \n",
      "11934          0.2        0.2         0.0         0.0   Dec                 1   \n",
      "11938          0.2        0.2         0.0         0.0   Dec                 1   \n",
      "12159          0.2        0.2         0.0         0.0   Dec                 1   \n",
      "12180          0.2        0.2         0.0         0.0   Dec                 1   \n",
      "12185          0.2        0.2         0.0         0.0   Dec                 8   \n",
      "\n",
      "       Browser  Region  TrafficType        VisitorType  Weekend  Revenue  \n",
      "158          1       1            3  Returning_Visitor    False    False  \n",
      "159          2       3            3  Returning_Visitor    False    False  \n",
      "178          2       3            3  Returning_Visitor    False    False  \n",
      "418          1       1            1  Returning_Visitor     True    False  \n",
      "456          2       4            1  Returning_Visitor    False    False  \n",
      "...        ...     ...          ...                ...      ...      ...  \n",
      "11934        1       1            2        New_Visitor    False    False  \n",
      "11938        1       4            1  Returning_Visitor     True    False  \n",
      "12159        1       1            3  Returning_Visitor    False    False  \n",
      "12180       13       9           20  Returning_Visitor    False    False  \n",
      "12185       13       9           20              Other    False    False  \n",
      "\n",
      "[125 rows x 18 columns] \n",
      " ==================================================\n",
      "records before duplicate removal: 12330\n",
      "records before duplicate removal: 12205\n"
     ]
    }
   ],
   "source": [
    "# da duplicates\n",
    "if df.duplicated().any():\n",
    "    print(f'There are {df.duplicated().sum()} duplicated values', '\\n', '='*50)\n",
    "    print(df[df.duplicated()], '\\n', '='*50)\n",
    "    print('records before duplicate removal:', len(df))\n",
    "    df.drop_duplicates(inplace=True)\n",
    "    print('records before duplicate removal:', len(df))"
   ]
  },
  {
   "cell_type": "code",
   "execution_count": 87,
   "metadata": {},
   "outputs": [
    {
     "name": "stdout",
     "output_type": "stream",
     "text": [
      "0 administrative\n",
      "1 administrative_duration\n",
      "2 informational\n",
      "3 informational_duration\n",
      "4 productrelated\n",
      "5 productrelated_duration\n",
      "6 bouncerates\n",
      "7 exitrates\n",
      "8 pagevalues\n",
      "9 specialday\n",
      "10 month\n",
      "11 operatingsystems\n",
      "12 browser\n",
      "13 region\n",
      "14 traffictype\n",
      "15 visitortype\n",
      "16 weekend\n",
      "17 revenue\n"
     ]
    }
   ],
   "source": [
    "# column name lowercase\n",
    "df.columns = map(str.lower, df.columns)\n",
    "for i, col in enumerate(df.columns):\n",
    "    print(i, col)"
   ]
  },
  {
   "cell_type": "code",
   "execution_count": 57,
   "metadata": {},
   "outputs": [],
   "source": [
    "# changing data types to category\n",
    "cat_cols = ['month', 'operatingsystems', 'browser', 'region',\n",
    "            'traffictype', 'visitortype', 'weekend', 'revenue']\n",
    "for col in cat_cols:\n",
    "    df[col] = df[col].astype('category')"
   ]
  },
  {
   "cell_type": "code",
   "execution_count": 72,
   "metadata": {},
   "outputs": [
    {
     "name": "stdout",
     "output_type": "stream",
     "text": [
      "No Nulls 👍\n"
     ]
    }
   ],
   "source": [
    "if df.isna().sum().sum():\n",
    "    print('Null Values')\n",
    "else:\n",
    "    print('No Nulls 👍')"
   ]
  },
  {
   "cell_type": "markdown",
   "metadata": {},
   "source": [
    "## Checking data quality and values"
   ]
  },
  {
   "cell_type": "code",
   "execution_count": 89,
   "metadata": {},
   "outputs": [
    {
     "name": "stdout",
     "output_type": "stream",
     "text": [
      "1 : administrative \n",
      " ======================================== Number of unique values: **27** \n",
      " ======================================== Percentage of nulls: **%0.0** \n",
      " Sorted unique values: \n",
      " [ 0  1  2  3  4  5  6  7  8  9 10 11 12 13 14 15 16 17 18 19 20 21 22 23\n",
      " 24 26 27] \n",
      "\n",
      "\n",
      "\n",
      "2 : administrative_duration \n",
      " ======================================== Number of unique values: **3335** \n",
      " ======================================== Percentage of nulls: **%0.0** \n",
      " Sorted unique values: \n",
      " [0.00000000e+00 1.33333333e+00 2.00000000e+00 ... 2.65731806e+03\n",
      " 2.72050000e+03 3.39875000e+03] \n",
      "\n",
      "\n",
      "\n",
      "3 : informational \n",
      " ======================================== Number of unique values: **17** \n",
      " ======================================== Percentage of nulls: **%0.0** \n",
      " Sorted unique values: \n",
      " [ 0  1  2  3  4  5  6  7  8  9 10 11 12 13 14 16 24] \n",
      "\n",
      "\n",
      "\n",
      "4 : informational_duration \n",
      " ======================================== Number of unique values: **1258** \n",
      " ======================================== Percentage of nulls: **%0.0** \n",
      " Sorted unique values: \n",
      " [0.00000000e+00 1.00000000e+00 1.50000000e+00 ... 2.25203333e+03\n",
      " 2.25691667e+03 2.54937500e+03] \n",
      "\n",
      "\n",
      "\n",
      "5 : productrelated \n",
      " ======================================== Number of unique values: **311** \n",
      " ======================================== Percentage of nulls: **%0.0** \n",
      " Sorted unique values: \n",
      " [  0   1   2   3   4   5   6   7   8   9  10  11  12  13  14  15  16  17\n",
      "  18  19  20  21  22  23  24  25  26  27  28  29  30  31  32  33  34  35\n",
      "  36  37  38  39  40  41  42  43  44  45  46  47  48  49  50  51  52  53\n",
      "  54  55  56  57  58  59  60  61  62  63  64  65  66  67  68  69  70  71\n",
      "  72  73  74  75  76  77  78  79  80  81  82  83  84  85  86  87  88  89\n",
      "  90  91  92  93  94  95  96  97  98  99 100 101 102 103 104 105 106 107\n",
      " 108 109 110 111 112 113 114 115 116 117 118 119 120 121 122 123 124 125\n",
      " 126 127 128 129 130 131 132 133 134 135 136 137 138 139 140 141 142 143\n",
      " 144 145 146 147 148 149 150 151 152 153 154 155 156 157 158 159 160 161\n",
      " 162 163 164 165 166 167 168 169 170 171 172 173 174 175 176 177 178 179\n",
      " 180 181 182 183 184 186 187 188 189 190 191 192 193 194 195 197 198 199\n",
      " 200 202 204 205 206 207 210 211 213 216 217 218 219 220 221 222 223 224\n",
      " 225 226 227 229 230 231 232 233 234 235 237 238 240 241 243 245 246 247\n",
      " 248 250 251 254 255 256 258 260 261 262 264 266 271 272 274 275 276 279\n",
      " 280 281 282 283 286 287 290 291 292 293 304 305 309 310 311 312 313 315\n",
      " 318 324 326 328 330 336 337 338 339 340 343 346 349 351 357 358 359 362\n",
      " 374 377 378 385 391 397 401 409 414 423 429 439 440 449 470 486 501 517\n",
      " 518 534 584 686 705] \n",
      "\n",
      "\n",
      "\n",
      "6 : productrelated_duration \n",
      " ======================================== Number of unique values: **9551** \n",
      " ======================================== Percentage of nulls: **%0.0** \n",
      " Sorted unique values: \n",
      " [0.00000000e+00 5.00000000e-01 1.00000000e+00 ... 2.99704660e+04\n",
      " 4.31712334e+04 6.39735222e+04] \n",
      "\n",
      "\n",
      "\n",
      "7 : bouncerates \n",
      " ======================================== Number of unique values: **1872** \n",
      " ======================================== Percentage of nulls: **%0.0** \n",
      " Sorted unique values: \n",
      " [0.00000000e+00 2.73000000e-05 3.35000000e-05 ... 1.80000000e-01\n",
      " 1.83333333e-01 2.00000000e-01] \n",
      "\n",
      "\n",
      "\n",
      "8 : exitrates \n",
      " ======================================== Number of unique values: **4777** \n",
      " ======================================== Percentage of nulls: **%0.0** \n",
      " Sorted unique values: \n",
      " [0.00000000e+00 1.75593000e-04 2.50438000e-04 ... 1.88888889e-01\n",
      " 1.92307692e-01 2.00000000e-01] \n",
      "\n",
      "\n",
      "\n",
      "9 : pagevalues \n",
      " ======================================== Number of unique values: **2704** \n",
      " ======================================== Percentage of nulls: **%0.0** \n",
      " Sorted unique values: \n",
      " [0.00000000e+00 3.80345420e-02 6.70495460e-02 ... 2.87953793e+02\n",
      " 3.60953384e+02 3.61763742e+02] \n",
      "\n",
      "\n",
      "\n",
      "10 : specialday \n",
      " ======================================== Number of unique values: **6** \n",
      " ======================================== Percentage of nulls: **%0.0** \n",
      " Sorted unique values: \n",
      " [0.  0.2 0.4 0.6 0.8 1. ] \n",
      "\n",
      "\n",
      "\n",
      "11 : month \n",
      " ======================================== Number of unique values: **10** \n",
      " ======================================== Percentage of nulls: **%0.0** \n",
      " Sorted unique values: \n",
      " [Aug, Dec, Feb, Jul, June, Mar, May, Nov, Oct, Sep]\n",
      "Categories (10, object): [Aug, Dec, Feb, Jul, ..., May, Nov, Oct, Sep] \n",
      "\n",
      "\n",
      "\n",
      "12 : operatingsystems \n",
      " ======================================== Number of unique values: **8** \n",
      " ======================================== Percentage of nulls: **%0.0** \n",
      " Sorted unique values: \n",
      " [1, 2, 3, 4, 5, 6, 7, 8]\n",
      "Categories (8, int64): [1, 2, 3, 4, 5, 6, 7, 8] \n",
      "\n",
      "\n",
      "\n",
      "13 : browser \n",
      " ======================================== Number of unique values: **13** \n",
      " ======================================== Percentage of nulls: **%0.0** \n",
      " Sorted unique values: \n",
      " [1, 2, 3, 4, 5, ..., 9, 10, 11, 12, 13]\n",
      "Length: 13\n",
      "Categories (13, int64): [1, 2, 3, 4, ..., 10, 11, 12, 13] \n",
      "\n",
      "\n",
      "\n",
      "14 : region \n",
      " ======================================== Number of unique values: **9** \n",
      " ======================================== Percentage of nulls: **%0.0** \n",
      " Sorted unique values: \n",
      " [1, 2, 3, 4, 5, 6, 7, 8, 9]\n",
      "Categories (9, int64): [1, 2, 3, 4, ..., 6, 7, 8, 9] \n",
      "\n",
      "\n",
      "\n",
      "15 : traffictype \n",
      " ======================================== Number of unique values: **20** \n",
      " ======================================== Percentage of nulls: **%0.0** \n",
      " Sorted unique values: \n",
      " [1, 2, 3, 4, 5, ..., 16, 17, 18, 19, 20]\n",
      "Length: 20\n",
      "Categories (20, int64): [1, 2, 3, 4, ..., 17, 18, 19, 20] \n",
      "\n",
      "\n",
      "\n",
      "16 : visitortype \n",
      " ======================================== Number of unique values: **3** \n",
      " ======================================== Percentage of nulls: **%0.0** \n",
      " Sorted unique values: \n",
      " [New_Visitor, Other, Returning_Visitor]\n",
      "Categories (3, object): [New_Visitor, Other, Returning_Visitor] \n",
      "\n",
      "\n",
      "\n",
      "17 : weekend \n",
      " ======================================== Number of unique values: **2** \n",
      " ======================================== Percentage of nulls: **%0.0** \n",
      " Sorted unique values: \n",
      " [False, True]\n",
      "Categories (2, object): [False, True] \n",
      "\n",
      "\n",
      "\n",
      "18 : revenue \n",
      " ======================================== Number of unique values: **2** \n",
      " ======================================== Percentage of nulls: **%0.0** \n",
      " Sorted unique values: \n",
      " [False, True]\n",
      "Categories (2, object): [False, True] \n",
      "\n",
      "\n",
      "\n"
     ]
    }
   ],
   "source": [
    "for i, col in enumerate(df.columns):\n",
    "    print(i+1, ':', col,\n",
    "          '\\n',\n",
    "          '='*40, f'Number of unique values: **{df[col].nunique()}**',\n",
    "          '\\n',\n",
    "          '=' *\n",
    "          40, f'Percentage of nulls: **%{np.round(df[col].isnull().sum()/len(df)*100,3)}**',\n",
    "          '\\n',\n",
    "          'Sorted unique values: \\n',\n",
    "          df[col].sort_values().unique(), '\\n\\n\\n')"
   ]
  },
  {
   "cell_type": "code",
   "execution_count": 90,
   "metadata": {},
   "outputs": [
    {
     "name": "stdout",
     "output_type": "stream",
     "text": [
      "<class 'pandas.core.frame.DataFrame'>\n",
      "Int64Index: 12205 entries, 0 to 12329\n",
      "Data columns (total 18 columns):\n",
      "administrative             12205 non-null int64\n",
      "administrative_duration    12205 non-null float64\n",
      "informational              12205 non-null int64\n",
      "informational_duration     12205 non-null float64\n",
      "productrelated             12205 non-null int64\n",
      "productrelated_duration    12205 non-null float64\n",
      "bouncerates                12205 non-null float64\n",
      "exitrates                  12205 non-null float64\n",
      "pagevalues                 12205 non-null float64\n",
      "specialday                 12205 non-null float64\n",
      "month                      12205 non-null category\n",
      "operatingsystems           12205 non-null category\n",
      "browser                    12205 non-null category\n",
      "region                     12205 non-null category\n",
      "traffictype                12205 non-null category\n",
      "visitortype                12205 non-null category\n",
      "weekend                    12205 non-null category\n",
      "revenue                    12205 non-null category\n",
      "dtypes: category(8), float64(7), int64(3)\n",
      "memory usage: 1.4 MB\n"
     ]
    }
   ],
   "source": [
    "df.info()"
   ]
  },
  {
   "cell_type": "code",
   "execution_count": 92,
   "metadata": {},
   "outputs": [],
   "source": [
    "df.to_pickle(os.path.join('data', 'cleaned_df.pkl'))"
   ]
  }
 ],
 "metadata": {
  "file_extension": ".py",
  "kernelspec": {
   "display_name": "Python 3",
   "language": "python",
   "name": "python3"
  },
  "language_info": {
   "codemirror_mode": {
    "name": "ipython",
    "version": 3
   },
   "file_extension": ".py",
   "mimetype": "text/x-python",
   "name": "python",
   "nbconvert_exporter": "python",
   "pygments_lexer": "ipython3",
   "version": "3.7.4"
  },
  "mimetype": "text/x-python",
  "name": "python",
  "npconvert_exporter": "python",
  "pygments_lexer": "ipython3",
  "varInspector": {
   "cols": {
    "lenName": 16,
    "lenType": 16,
    "lenVar": 40
   },
   "kernels_config": {
    "python": {
     "delete_cmd_postfix": "",
     "delete_cmd_prefix": "del ",
     "library": "var_list.py",
     "varRefreshCmd": "print(var_dic_list())"
    },
    "r": {
     "delete_cmd_postfix": ") ",
     "delete_cmd_prefix": "rm(",
     "library": "var_list.r",
     "varRefreshCmd": "cat(var_dic_list()) "
    }
   },
   "types_to_exclude": [
    "module",
    "function",
    "builtin_function_or_method",
    "instance",
    "_Feature"
   ],
   "window_display": false
  },
  "version": 3
 },
 "nbformat": 4,
 "nbformat_minor": 2
}
